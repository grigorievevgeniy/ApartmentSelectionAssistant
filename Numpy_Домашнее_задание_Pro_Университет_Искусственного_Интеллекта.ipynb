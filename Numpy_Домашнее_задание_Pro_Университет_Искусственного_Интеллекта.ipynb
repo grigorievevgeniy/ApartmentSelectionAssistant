{
  "nbformat": 4,
  "nbformat_minor": 0,
  "metadata": {
    "colab": {
      "name": "Numpy. Домашнее задание. Pro. Университет Искусственного Интеллекта.ipynb",
      "provenance": [],
      "collapsed_sections": [],
      "include_colab_link": true
    },
    "kernelspec": {
      "name": "python3",
      "display_name": "Python 3"
    }
  },
  "cells": [
    {
      "cell_type": "markdown",
      "metadata": {
        "id": "view-in-github",
        "colab_type": "text"
      },
      "source": [
        "<a href=\"https://colab.research.google.com/github/grigorievevgeniy/ApartmentSelectionAssistant/blob/master/Numpy_%D0%94%D0%BE%D0%BC%D0%B0%D1%88%D0%BD%D0%B5%D0%B5_%D0%B7%D0%B0%D0%B4%D0%B0%D0%BD%D0%B8%D0%B5_Pro_%D0%A3%D0%BD%D0%B8%D0%B2%D0%B5%D1%80%D1%81%D0%B8%D1%82%D0%B5%D1%82_%D0%98%D1%81%D0%BA%D1%83%D1%81%D1%81%D1%82%D0%B2%D0%B5%D0%BD%D0%BD%D0%BE%D0%B3%D0%BE_%D0%98%D0%BD%D1%82%D0%B5%D0%BB%D0%BB%D0%B5%D0%BA%D1%82%D0%B0.ipynb\" target=\"_parent\"><img src=\"https://colab.research.google.com/assets/colab-badge.svg\" alt=\"Open In Colab\"/></a>"
      ]
    },
    {
      "cell_type": "markdown",
      "metadata": {
        "id": "FeqqaWYY0lhg"
      },
      "source": [
        "# Numpy. Домашнее Задание. Pro\n",
        "\n",
        "*2 балла за каждую задачу*"
      ]
    },
    {
      "cell_type": "markdown",
      "metadata": {
        "id": "iQhtbx8Z8SZj"
      },
      "source": [
        "### Задача 1\n",
        "*(2 балла)*\n",
        "\n",
        "* Подгрузите массив с файла **iris.csv** и назовите этот массив my_array. \n",
        "\n",
        "* Создайте двумерный массив из случайных чисел той же размерности, что и my_array (раздел \"Семплирование из распределений\", потребуется использовать размерность массива my_array).\n",
        "\n",
        "* Назовите его my_generated_array."
      ]
    },
    {
      "cell_type": "markdown",
      "metadata": {
        "id": "KdbAknB0AR0O"
      },
      "source": [
        "**Решение:**"
      ]
    },
    {
      "cell_type": "code",
      "metadata": {
        "id": "uQDyuRTB_ntY"
      },
      "source": [
        ""
      ],
      "execution_count": null,
      "outputs": []
    },
    {
      "cell_type": "markdown",
      "metadata": {
        "id": "hzR46ceA8SZp"
      },
      "source": [
        "### Задача 2\n",
        "*(2 балла)*\n",
        "\n",
        "* Выполните поэлементное умножение my_array на my_generated_array (раздел \"Векторные операции\").\n",
        "\n",
        "* Склейте массивы my_array, my_generated_array в один (могут помочь методы np.concatenate, np.vstack, np.hstack).\n",
        "\n",
        "* Возьмите склеенный массив и разделите его на равные части (больше двух). Можно сделать вручную через циклы либо воспользоваться методом vsplit."
      ]
    },
    {
      "cell_type": "markdown",
      "metadata": {
        "id": "VJbqrCAvA0My"
      },
      "source": [
        "**Решение:**"
      ]
    },
    {
      "cell_type": "code",
      "metadata": {
        "id": "VuQOLDyRA0My"
      },
      "source": [
        ""
      ],
      "execution_count": null,
      "outputs": []
    },
    {
      "cell_type": "markdown",
      "metadata": {
        "id": "z08ODJt78SZw"
      },
      "source": [
        "### Задача 3\n",
        "*(2 балла)*\n",
        "\n",
        "* Найдите все элементы массива my_array, которые больше трех и меньше 5 одновременно. Используйте методологию подвыборки массива с условием (раздел \"Индексация\")."
      ]
    },
    {
      "cell_type": "markdown",
      "metadata": {
        "id": "ABomd938A0wl"
      },
      "source": [
        "**Решение:**"
      ]
    },
    {
      "cell_type": "code",
      "metadata": {
        "id": "VvyzSiqWA0wn"
      },
      "source": [
        ""
      ],
      "execution_count": null,
      "outputs": []
    },
    {
      "cell_type": "markdown",
      "metadata": {
        "id": "P_O3RZUR8SZ6"
      },
      "source": [
        "### Задача 4\n",
        "*(2 балла)*\n",
        "\n",
        "Создайте трехмерный массив размера 2 на 3 на 4, состоящий из случайных ВЕЩЕСТВЕННЫХ чисел от 15 до 37. Используйте встроенные методы библиотеки  np.random."
      ]
    },
    {
      "cell_type": "markdown",
      "metadata": {
        "id": "tpfyzjF0A1HD"
      },
      "source": [
        "**Решение:**"
      ]
    },
    {
      "cell_type": "code",
      "metadata": {
        "id": "-l2omKOiA1HF"
      },
      "source": [
        ""
      ],
      "execution_count": null,
      "outputs": []
    },
    {
      "cell_type": "markdown",
      "metadata": {
        "id": "_8q3NF_k8SaA"
      },
      "source": [
        "### Задача 5\n",
        "*(2 балла)*\n",
        "\n",
        "Используя массив из предыдущей задачи, преобразуйте его в новый массив со следующими значениями:\n",
        "\n",
        "    * \"small\", если значения меньше 20\n",
        "    * \"medium\", если значения в промежутке [20, 30]\n",
        "    * \"large\", если значения больше 30"
      ]
    },
    {
      "cell_type": "markdown",
      "metadata": {
        "id": "W0pitA1DA1vG"
      },
      "source": [
        "**Решение:**"
      ]
    },
    {
      "cell_type": "code",
      "metadata": {
        "id": "H6EAMd9XA1vH"
      },
      "source": [
        ""
      ],
      "execution_count": null,
      "outputs": []
    }
  ]
}